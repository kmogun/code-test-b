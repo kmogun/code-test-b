{
 "cells": [
  {
   "cell_type": "code",
   "execution_count": 1,
   "metadata": {
    "collapsed": true,
    "pycharm": {
     "name": "#%%\n"
    }
   },
   "outputs": [],
   "source": [
    "import pandas as pd\n",
    "import random\n",
    "import sqlite3\n",
    "from sqlite3 import Error"
   ]
  },
  {
   "cell_type": "code",
   "execution_count": 2,
   "outputs": [],
   "source": [
    "def create_connection(db_file):\n",
    "    conn = None\n",
    "    try:\n",
    "        conn = sqlite3.connect(db_file)\n",
    "        print(conn)\n",
    "    except Error as e:\n",
    "        print(e)\n",
    "    #finally:\n",
    "    #    if conn:\n",
    "    #        conn.close()\n",
    "    return conn"
   ],
   "metadata": {
    "collapsed": false,
    "pycharm": {
     "name": "#%%\n"
    }
   }
  },
  {
   "cell_type": "code",
   "execution_count": 3,
   "outputs": [],
   "source": [
    "def run_sql(conn, sql):\n",
    "    try:\n",
    "        c = conn.cursor()\n",
    "        c.execute(sql)\n",
    "    except Error as e:\n",
    "        print(e)"
   ],
   "metadata": {
    "collapsed": false,
    "pycharm": {
     "name": "#%%\n"
    }
   }
  },
  {
   "cell_type": "code",
   "execution_count": 4,
   "outputs": [
    {
     "name": "stdout",
     "output_type": "stream",
     "text": [
      "<sqlite3.Connection object at 0x7fae6cdc25d0>\n"
     ]
    }
   ],
   "source": [
    "conn = create_connection(\"../data/sqlite.db\")"
   ],
   "metadata": {
    "collapsed": false,
    "pycharm": {
     "name": "#%%\n"
    }
   }
  },
  {
   "cell_type": "code",
   "execution_count": 5,
   "outputs": [],
   "source": [
    "sql_drop_demographics = \"\"\"\n",
    "    DROP TABLE IF EXISTS demographics;\n",
    "\"\"\"\n",
    "run_sql(conn, sql_drop_demographics)\n",
    "\n",
    "sql_create_demographics = \"\"\"\n",
    "    CREATE TABLE IF NOT EXISTS demographics (\n",
    "        patientuid integer PRIMARY KEY,\n",
    "        zip_code integer,\n",
    "        income integer,\n",
    "        bmi integer\n",
    "    );\n",
    "\"\"\"\n",
    "run_sql(conn, sql_create_demographics)"
   ],
   "metadata": {
    "collapsed": false,
    "pycharm": {
     "name": "#%%\n"
    }
   }
  },
  {
   "cell_type": "code",
   "execution_count": 6,
   "outputs": [],
   "source": [
    "sql_drop_measurements = \"\"\"\n",
    "    DROP TABLE IF EXISTS measurements;\n",
    "\"\"\"\n",
    "run_sql(conn, sql_drop_measurements)\n",
    "\n",
    "sql_create_measurements = \"\"\"\n",
    "    CREATE TABLE IF NOT EXISTS measurements (\n",
    "        patientuid integer,\n",
    "        label text,\n",
    "        value text,\n",
    "        date text\n",
    "    );\n",
    "\"\"\"\n",
    "run_sql(conn, sql_create_measurements)"
   ],
   "metadata": {
    "collapsed": false,
    "pycharm": {
     "name": "#%%\n"
    }
   }
  },
  {
   "cell_type": "code",
   "execution_count": 7,
   "outputs": [],
   "source": [
    "def create_demographic(conn, params):\n",
    "    sql = ''' INSERT INTO demographics(patientuid, zip_code, income, bmi) VALUES(?,?,?,?) '''\n",
    "    cur = conn.cursor()\n",
    "    cur.execute(sql, params)\n",
    "    conn.commit()\n",
    "    return cur.lastrowid\n",
    "\n",
    "def create_measurement(conn, params):\n",
    "    sql = ''' INSERT INTO measurements(patientuid, label, value, date) VALUES(?,?,?,?) '''\n",
    "    cur = conn.cursor()\n",
    "    cur.execute(sql, params)\n",
    "    conn.commit()\n",
    "    return cur.lastrowid"
   ],
   "metadata": {
    "collapsed": false,
    "pycharm": {
     "name": "#%%\n"
    }
   }
  },
  {
   "cell_type": "code",
   "execution_count": 8,
   "outputs": [],
   "source": [
    "demographics_df = pd.read_csv(\"../data/demographics.csv\")\n",
    "for i, r in demographics_df.iterrows():\n",
    "    create_demographic(conn, (int(r['patientuid']), int(r['zip_code']), int(r['income']), int(r['bmi'])))"
   ],
   "metadata": {
    "collapsed": false,
    "pycharm": {
     "name": "#%%\n"
    }
   }
  },
  {
   "cell_type": "code",
   "execution_count": 9,
   "outputs": [],
   "source": [
    "measurements_df = pd.read_csv(\"../data/measurements.csv\", sep=\"|\")\n",
    "for i, r in measurements_df.iterrows():\n",
    "    create_measurement(conn, (int(r['patientuid']), str(r['label']), str(r['value']), str(r['date'])))"
   ],
   "metadata": {
    "collapsed": false,
    "pycharm": {
     "name": "#%%\n"
    }
   }
  },
  {
   "cell_type": "code",
   "execution_count": 9,
   "outputs": [],
   "source": [],
   "metadata": {
    "collapsed": false,
    "pycharm": {
     "name": "#%%\n"
    }
   }
  },
  {
   "cell_type": "code",
   "execution_count": 9,
   "outputs": [],
   "source": [],
   "metadata": {
    "collapsed": false,
    "pycharm": {
     "name": "#%%\n"
    }
   }
  }
 ],
 "metadata": {
  "kernelspec": {
   "display_name": "Python 3",
   "language": "python",
   "name": "python3"
  },
  "language_info": {
   "codemirror_mode": {
    "name": "ipython",
    "version": 2
   },
   "file_extension": ".py",
   "mimetype": "text/x-python",
   "name": "python",
   "nbconvert_exporter": "python",
   "pygments_lexer": "ipython2",
   "version": "2.7.6"
  }
 },
 "nbformat": 4,
 "nbformat_minor": 0
}